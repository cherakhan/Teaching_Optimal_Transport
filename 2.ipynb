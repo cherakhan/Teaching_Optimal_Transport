{
 "cells": [
  {
   "cell_type": "markdown",
   "metadata": {},
   "source": [
    "# Part 2: Optimal Transport for Machine Learning"
   ]
  },
  {
   "cell_type": "markdown",
   "metadata": {},
   "source": [
    "In this second practical session, we will apply OT in two different Machine Learning applications:\n",
    "1. Color Transfer\n",
    "2. Document Clustering\n",
    "\n",
    "In Color Transfer, we will mainly be interested in the optimal transport plan itself, while in Document Clustering, we will be interested in the value of the Optimal Transport / Wasserstein distance."
   ]
  },
  {
   "cell_type": "code",
   "execution_count": null,
   "metadata": {},
   "outputs": [],
   "source": [
    "import numpy as np\n",
    "import ot"
   ]
  },
  {
   "cell_type": "markdown",
   "metadata": {},
   "source": [
    "## 1. Color Transfer"
   ]
  },
  {
   "cell_type": "markdown",
   "metadata": {},
   "source": [
    "Given a source and a target image, the goal of color transfer is to transform the colors of the source image so that it looks similar to the target image color palette. In the end, we want to find a \"color mapping\", giving for each color of the source image a new color. This can be done by computing the optimal transport plan between the two images, seen as point clouds in the RGB space."
   ]
  },
  {
   "cell_type": "code",
   "execution_count": null,
   "metadata": {},
   "outputs": [],
   "source": [
    "# For plotting\n",
    "import matplotlib.pyplot as plt\n",
    "from matplotlib.pyplot import imread\n",
    "from mpl_toolkits.mplot3d import Axes3D"
   ]
  },
  {
   "cell_type": "code",
   "execution_count": null,
   "metadata": {},
   "outputs": [],
   "source": [
    "# Load the images\n",
    "I1 = imread('data/schiele.jpg').astype(np.float64) / 256\n",
    "I2 = imread('data/schiele2.jpg').astype(np.float64) / 256\n",
    "\n",
    "fig = plt.figure(figsize=(17, 30))\n",
    "\n",
    "ax = fig.add_subplot(1, 2, 1)\n",
    "ax.imshow(I1)\n",
    "ax.set_title('Landscape', fontsize=25)\n",
    "ax.axis('off')\n",
    "\n",
    "ax = fig.add_subplot(1, 2, 2)\n",
    "ax.imshow(I2)\n",
    "ax.set_title('Portrait', fontsize=25)\n",
    "ax.axis('off')\n",
    "\n",
    "plt.show()"
   ]
  },
  {
   "cell_type": "markdown",
   "metadata": {},
   "source": [
    "We will need to work with \"matrices\" instead of images. Since there are 3 colors, images have shape `(Width, Height, 3)`, and the corresponding matrices will have shape `(Width*Height, 3)`."
   ]
  },
  {
   "cell_type": "code",
   "execution_count": null,
   "metadata": {},
   "outputs": [],
   "source": [
    "def im2mat(I):\n",
    "    '''Convert image I to matrix.'''\n",
    "    # TODO\n",
    "\n",
    "def mat2im(X, shape):\n",
    "    '''Convert matrix X to image with shape 'shape'.'''\n",
    "    # TODO\n",
    "\n",
    "X1 = im2mat(I1)\n",
    "X2 = im2mat(I2)"
   ]
  },
  {
   "cell_type": "markdown",
   "metadata": {},
   "source": [
    "Real images have way too many different colors, so we will need to subsample them. In order to do this, we use K-means over all the colors, and keep only the computed centroids. Note that using Mini Batch K-Means will speed the computations up."
   ]
  },
  {
   "cell_type": "code",
   "execution_count": null,
   "metadata": {},
   "outputs": [],
   "source": [
    "from sklearn.cluster import MiniBatchKMeans\n",
    "\n",
    "# Size of the subsampled point clouds\n",
    "nbsamples = 1000\n",
    "\n",
    "# TODO: run MiniBatchKMeans on image 1, with nbsamples clusters, and deduce the centroids X1_sampled and the weights w1\n",
    "\n",
    "# TODO: run MiniBatchKMeans on image 2, with nbsamples clusters, and deduce the centroids X2_sampled and the weights w2"
   ]
  },
  {
   "cell_type": "markdown",
   "metadata": {},
   "source": [
    "Each image is represented by its \"matrix\", i.e. is seen as a point cloud $X \\in \\mathbb{R}^{N\\times3}$ in the RGB color space, identified with $\\mathbb{R}^3$. "
   ]
  },
  {
   "cell_type": "code",
   "execution_count": null,
   "metadata": {},
   "outputs": [],
   "source": [
    "def showImageAsPointCloud(X, Y, w1, w2):\n",
    "    '''Show the color palette associated with images X and Y.'''\n",
    "    fig = plt.figure(figsize=(17,8))\n",
    "    ax = fig.add_subplot(121, projection='3d')\n",
    "    ax.set_xlim(0,1)\n",
    "    ax.scatter(X[:,0], X[:,1], X[:,2], c=X, s=20000*w1, marker='o', alpha=0.4)\n",
    "    ax.set_xlabel('R',fontsize=22)\n",
    "    ax.set_xticklabels([])\n",
    "    ax.set_ylim(0,1)\n",
    "    ax.set_ylabel('G',fontsize=22)\n",
    "    ax.set_yticklabels([])\n",
    "    ax.set_zlim(0,1)\n",
    "    ax.set_zlabel('B',fontsize=22)\n",
    "    ax.set_zticklabels([])\n",
    "    ax.set_title('Landscape Color Palette', fontsize=20)\n",
    "    ax.grid(False)\n",
    "    \n",
    "    ax = fig.add_subplot(122, projection='3d')\n",
    "    ax.set_xlim(0,1)\n",
    "    ax.scatter(Y[:,0], Y[:,1], Y[:,2], c=Y, s=20000*w2, marker='o', alpha=0.4)\n",
    "    ax.set_xlabel('R',fontsize=22)\n",
    "    ax.set_xticklabels([])\n",
    "    ax.set_ylim(0,1)\n",
    "    ax.set_ylabel('G',fontsize=22)\n",
    "    ax.set_yticklabels([])\n",
    "    ax.set_zlim(0,1)\n",
    "    ax.set_zlabel('B',fontsize=22)\n",
    "    ax.set_zticklabels([])\n",
    "    ax.set_title('Portrait Color Palette', fontsize=20)\n",
    "    ax.grid(False)\n",
    "    \n",
    "    plt.show()"
   ]
  },
  {
   "cell_type": "code",
   "execution_count": null,
   "metadata": {},
   "outputs": [],
   "source": [
    "showImageAsPointCloud(X1_sampled, X2_sampled, w1, w2)"
   ]
  },
  {
   "cell_type": "markdown",
   "metadata": {},
   "source": [
    "In order to compute the optimal transport plans between the two point clouds, we have to compute the corresponding cost matrix. In the following, we will always consider the squared distance, _i.e._ $C_{ij} = \\|X_i - Y_j\\|^2$."
   ]
  },
  {
   "cell_type": "code",
   "execution_count": null,
   "metadata": {},
   "outputs": [],
   "source": [
    "C = # TODO: l2 cost between X1_sampled and X2_sampled"
   ]
  },
  {
   "cell_type": "markdown",
   "metadata": {},
   "source": [
    "### Landscape with Portrait colors"
   ]
  },
  {
   "cell_type": "markdown",
   "metadata": {},
   "source": [
    "Here, the goal is to transfer the colors of the portrait to the landscape. We will compute the exact Optimal Transport Plan, as well as the Entropy Regularized Optimal Transport plans."
   ]
  },
  {
   "cell_type": "code",
   "execution_count": null,
   "metadata": {},
   "outputs": [],
   "source": [
    "regs = [0.01, 0.1, 0.5]\n",
    "OT_plans = # List of OT plans for regularizations = 0, 0.01, 0.1, 0.5"
   ]
  },
  {
   "cell_type": "code",
   "execution_count": null,
   "metadata": {},
   "outputs": [],
   "source": [
    "def colorTransfer(OT_plan, kmeans1, kmeans2, shape):\n",
    "    '''Return the color-transfered image of shape \"shape\".'''\n",
    "    samples_transformed = # TODO: Barycentric projection of the centroids\n",
    "    X1_transformed = # TODO: transform each original pixel color\n",
    "    return # TODO: return an image, not a 3D point cloud"
   ]
  },
  {
   "cell_type": "code",
   "execution_count": null,
   "metadata": {},
   "outputs": [],
   "source": [
    "fig = plt.figure(figsize=(17, 20))\n",
    "\n",
    "ax = fig.add_subplot(1, 2, 1)\n",
    "ax.imshow(I1)\n",
    "ax.set_title('Source Image', fontsize=20)\n",
    "ax.axis('off')\n",
    "\n",
    "ax = fig.add_subplot(1, 2, 2)\n",
    "I = colorTransfer(OT_plans[0], kmeans1, kmeans2, I1.shape)\n",
    "ax.imshow(I)\n",
    "ax.set_title('Reg = 0', fontsize=20)\n",
    "ax.axis('off')\n",
    "\n",
    "plt.show()\n",
    "\n",
    "fig = plt.figure(figsize=(17, 20))\n",
    "for i in range(3):\n",
    "    ax = fig.add_subplot(2, 3, i+1)\n",
    "    I = colorTransfer(OT_plans[i+1], kmeans1, kmeans2, I1.shape)\n",
    "    ax.imshow(I)\n",
    "    ax.set_title('Reg = '+str(regs[i]), fontsize=20)\n",
    "    ax.axis('off')\n",
    "\n",
    "plt.show()"
   ]
  },
  {
   "cell_type": "markdown",
   "metadata": {},
   "source": [
    "### Portait with Landscape colors"
   ]
  },
  {
   "cell_type": "markdown",
   "metadata": {},
   "source": [
    "We now transfer the colors of the landscape to the portrait."
   ]
  },
  {
   "cell_type": "code",
   "execution_count": null,
   "metadata": {},
   "outputs": [],
   "source": [
    "C = # TODO: transpose the cost"
   ]
  },
  {
   "cell_type": "code",
   "execution_count": null,
   "metadata": {},
   "outputs": [],
   "source": [
    "regs = [0.01, 0.03, 0.1]\n",
    "OT_plans = # List of OT plans for regularizations = 0, 0.01, 0.1, 0.5"
   ]
  },
  {
   "cell_type": "code",
   "execution_count": null,
   "metadata": {},
   "outputs": [],
   "source": [
    "def colorTransfer(OT_plan, kmeans1, kmeans2, shape):\n",
    "    samples_transformed = # TODO: Barycentric projection of the centroids\n",
    "    X2_transformed = # TODO: transform each original pixel color\n",
    "    return # TODO: return an image, not a 3D point cloud"
   ]
  },
  {
   "cell_type": "code",
   "execution_count": null,
   "metadata": {},
   "outputs": [],
   "source": [
    "fig = plt.figure(figsize=(17, 20))\n",
    "\n",
    "ax = fig.add_subplot(1, 2, 1)\n",
    "ax.imshow(I2)\n",
    "ax.set_title('Source Image', fontsize=20)\n",
    "ax.axis('off')\n",
    "\n",
    "ax = fig.add_subplot(1, 2, 2)\n",
    "I = colorTransfer(OT_plans[0], kmeans1, kmeans2, I2.shape)\n",
    "ax.imshow(I)\n",
    "ax.set_title('Reg = 0', fontsize=20)\n",
    "ax.axis('off')\n",
    "\n",
    "plt.show()\n",
    "\n",
    "fig = plt.figure(figsize=(17, 20))\n",
    "for i in range(3):\n",
    "    ax = fig.add_subplot(2, 3, i+1)\n",
    "    I = colorTransfer(OT_plans[i+1], kmeans1, kmeans2, I2.shape)\n",
    "    ax.imshow(I)\n",
    "    ax.set_title('Reg = '+str(regs[i]), fontsize=20)\n",
    "    ax.axis('off')\n",
    "\n",
    "plt.show()"
   ]
  },
  {
   "cell_type": "markdown",
   "metadata": {},
   "source": [
    "## 2. Document Clustering"
   ]
  },
  {
   "cell_type": "markdown",
   "metadata": {},
   "source": [
    "We would likle to classify several text documents. In order to do this, we will:\n",
    "1. Transform each text into a point cloud\n",
    "2. Compute the Optimal Transport distances between each pair of point clouds\n",
    "3. Use MDS to plot the different clusters in 2 dimensions"
   ]
  },
  {
   "cell_type": "markdown",
   "metadata": {},
   "source": [
    "### Load the Data and Preprocessing\n",
    "We consider seven movie scenarios. We transformed each of them into a point cloud using the following steps:\n",
    "1. Keep only the words among the $2.000 - 20.000$ most common words\n",
    "2. Each remaining word is transformed into a $300$-dimensional vector using word2vec\n",
    "3. Each word is given a weight proportional to its frequency\n",
    "\n",
    "The variable `texts` is a list of tuples. Each tuple represents a movie, and contains two parts:\n",
    "1. A matrix $X \\in \\mathbb{R}^{n \\times 300}$ where $n$ is the number of different words, containing the position of the points\n",
    "2. A vector $a \\in \\mathbb{R}^n$ containing the corresponding weights"
   ]
  },
  {
   "cell_type": "code",
   "execution_count": null,
   "metadata": {},
   "outputs": [],
   "source": [
    "import pickle\n",
    "\n",
    "with open('data/texts.pickle', 'rb') as file:\n",
    "    texts = pickle.load(file)\n",
    "\n",
    "movies = ['DUNKIRK', 'GRAVITY', 'INTERSTELLAR', 'KILL BILL VOL.1', 'KILL BILL VOL.2', 'THE MARTIAN', 'TITANIC']"
   ]
  },
  {
   "cell_type": "markdown",
   "metadata": {},
   "source": [
    "### Compute the OT distances"
   ]
  },
  {
   "cell_type": "code",
   "execution_count": null,
   "metadata": {},
   "outputs": [],
   "source": [
    "# Set regularization strength\n",
    "reg = 0.1"
   ]
  },
  {
   "cell_type": "code",
   "execution_count": null,
   "metadata": {},
   "outputs": [],
   "source": [
    "def costMatrix(i,j):\n",
    "    '''Return the cost matrix C between movies number i and j.'''\n",
    "    # TODO"
   ]
  },
  {
   "cell_type": "code",
   "execution_count": null,
   "metadata": {},
   "outputs": [],
   "source": [
    "OT_distances = np.zeros((7,7))\n",
    "# TODO: OT_distances[i,j] should be the OT cost between movie i and movie j."
   ]
  },
  {
   "cell_type": "code",
   "execution_count": null,
   "metadata": {},
   "outputs": [],
   "source": [
    "for film in movies:\n",
    "    i = movies.index(film)\n",
    "    print('The film most similar to', film, 'is', # TODO)"
   ]
  },
  {
   "cell_type": "markdown",
   "metadata": {},
   "source": [
    "### Plot the MDS projection"
   ]
  },
  {
   "cell_type": "code",
   "execution_count": null,
   "metadata": {},
   "outputs": [],
   "source": [
    "from sklearn.manifold import MDS\n",
    "embedding = MDS(n_components=2, dissimilarity='precomputed')\n",
    "dis = OT_distances - OT_distances[OT_distances>0].min()\n",
    "np.fill_diagonal(dis, 0.)\n",
    "embedding = embedding.fit(dis)\n",
    "X = embedding.embedding_\n",
    "\n",
    "import matplotlib.pyplot as plt\n",
    "plt.figure(figsize=(17,6))\n",
    "plt.scatter(X[:,0], X[:,1], alpha=0.)\n",
    "plt.axis('equal')\n",
    "plt.axis('off')\n",
    "c = {'KILL BILL VOL.1':'red', 'KILL BILL VOL.2':'red', 'TITANIC':'blue', 'DUNKIRK':'blue', 'GRAVITY':'black', 'INTERSTELLAR':'black', 'THE MARTIAN':'black'}\n",
    "for film in movies:\n",
    "    i = movies.index(film)\n",
    "    plt.gca().annotate(film, X[i], size=30, ha='center', color=c[film], weight=\"bold\", alpha=0.7)\n",
    "plt.show()"
   ]
  }
 ],
 "metadata": {
  "kernelspec": {
   "display_name": "Python 3",
   "language": "python",
   "name": "python3"
  },
  "language_info": {
   "codemirror_mode": {
    "name": "ipython",
    "version": 3
   },
   "file_extension": ".py",
   "mimetype": "text/x-python",
   "name": "python",
   "nbconvert_exporter": "python",
   "pygments_lexer": "ipython3",
   "version": "3.7.4"
  }
 },
 "nbformat": 4,
 "nbformat_minor": 2
}
